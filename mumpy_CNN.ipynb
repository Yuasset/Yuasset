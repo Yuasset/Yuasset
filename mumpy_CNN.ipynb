{
  "nbformat": 4,
  "nbformat_minor": 0,
  "metadata": {
    "colab": {
      "provenance": [],
      "collapsed_sections": [],
      "include_colab_link": true
    },
    "kernelspec": {
      "name": "python3",
      "display_name": "Python 3"
    },
    "language_info": {
      "name": "python"
    },
    "accelerator": "GPU"
  },
  "cells": [
    {
      "cell_type": "markdown",
      "metadata": {
        "id": "view-in-github",
        "colab_type": "text"
      },
      "source": [
        "<a href=\"https://colab.research.google.com/github/Yuasset/Yuasset/blob/main/mumpy_CNN.ipynb\" target=\"_parent\"><img src=\"https://colab.research.google.com/assets/colab-badge.svg\" alt=\"Open In Colab\"/></a>"
      ]
    },
    {
      "cell_type": "code",
      "execution_count": null,
      "metadata": {
        "id": "KfbJ5p3G1H1h",
        "colab": {
          "base_uri": "https://localhost:8080/"
        },
        "outputId": "965419fb-c4b6-4414-ddb8-54f7c5ee81c4"
      },
      "outputs": [
        {
          "output_type": "stream",
          "name": "stdout",
          "text": [
            "Cloning into 'urban-sounds-files'...\n",
            "remote: Enumerating objects: 12, done.\u001b[K\n",
            "remote: Counting objects: 100% (3/3), done.\u001b[K\n",
            "remote: Total 12 (delta 0), reused 3 (delta 0), pack-reused 9\u001b[K\n",
            "Unpacking objects: 100% (12/12), done.\n",
            "Checking out files: 100% (8/8), done.\n"
          ]
        }
      ],
      "source": [
        "#Model hazırlanması ve eğitimi\n",
        "! git clone https://github.com/Karamubarek/urban-sounds-files.git"
      ]
    },
    {
      "cell_type": "code",
      "source": [
        "import numpy as np\n",
        "import pandas as pd\n",
        "from sklearn.preprocessing import LabelEncoder\n",
        "import tensorflow as tf\n",
        "from sklearn.model_selection import train_test_split\n",
        "from sklearn.linear_model import LogisticRegression\n",
        "import matplotlib.pyplot as plt"
      ],
      "metadata": {
        "id": "feffO8z6CVga"
      },
      "execution_count": null,
      "outputs": []
    },
    {
      "cell_type": "code",
      "source": [
        "a = np.load('urban-sounds-files/X_train.npz', allow_pickle=True)\n",
        "X_train = a['data']\n",
        "a = np.load('urban-sounds-files/X_test.npz', allow_pickle=True)\n",
        "X_test = a['data'] \n",
        "a = np.load('urban-sounds-files/X_val.npz', allow_pickle=True)\n",
        "X_val = a['data']\n",
        "a = np.load('urban-sounds-files/y_train.npz', allow_pickle=True)\n",
        "y_train = a['data']\n",
        "a = np.load('urban-sounds-files/y_test.npz', allow_pickle=True)\n",
        "y_test = a['data']\n",
        "a = np.load('urban-sounds-files/y_val.npz', allow_pickle=True)\n",
        "y_val = a['data']"
      ],
      "metadata": {
        "id": "gWbtehWFYs6A"
      },
      "execution_count": null,
      "outputs": []
    },
    {
      "cell_type": "code",
      "source": [
        "#CNN modeli hazırlayın\n",
        "#labelencoder = LabelEncoder()\n",
        "#dataset['diagnosis]']= labelencoder.fit_transform(dataset['diagnosis'].values)\n",
        "\n",
        "model = tf.keras.Sequential()\n",
        "\n",
        "model.add(tf.keras.layers.Conv2D(64,\n",
        "                                 kernel_size = (3,3),\n",
        "                                 strides = (1,1),\n",
        "                                 padding = 'same',\n",
        "                                 activation = 'relu',\n",
        "                                 input_shape = (128,128,1)))\n",
        "                                  \n",
        "\n",
        "model.add(tf.keras.layers.MaxPool2D(2,2))\n",
        "\n",
        "model.add(tf.keras.layers.Conv2D(64,\n",
        "                                 kernel_size = (3,3),\n",
        "                                 strides = (1,1),\n",
        "                                 padding = 'same',\n",
        "                                 activation = 'relu',\n",
        "                                 ))\n",
        "model.add(tf.keras.layers.MaxPool2D(2,2))\n",
        "model.add(tf.keras.layers.Conv2D(64,\n",
        "                                 kernel_size = (3,3),\n",
        "                                 strides = (1,1),\n",
        "                                 padding = 'same',\n",
        "                                 activation = 'relu',\n",
        "                                 ))\n",
        "\n",
        "model.add(tf.keras.layers.Flatten())\n",
        "\n",
        "model.add(tf.keras.layers.Dense(64, activation= 'relu'))\n",
        "model.add(tf.keras.layers.Dropout(0.5))\n",
        "\n",
        "\n",
        "model.add(tf.keras.layers.Dense(64, activation= 'relu'))\n",
        "model.add(tf.keras.layers.Dropout(0.5))\n",
        "\n",
        "model.add(tf.keras.layers.Dense(10,activation='softmax'))\n",
        "\n",
        "model.compile(optimizer='adam',\n",
        "              loss='sparse_categorical_crossentropy',\n",
        "              metrics=['accuracy']\n",
        "              )"
      ],
      "metadata": {
        "id": "zqZEQyfzBzdP"
      },
      "execution_count": null,
      "outputs": []
    },
    {
      "cell_type": "code",
      "source": [
        "results= model.fit(X_train, y_train,\n",
        "                   batch_size=128,\n",
        "                   epochs=50,\n",
        "                   validation_data= (X_val, y_val)\n",
        "                   )"
      ],
      "metadata": {
        "id": "VgzMv-HrBdsn",
        "colab": {
          "base_uri": "https://localhost:8080/"
        },
        "outputId": "58066d5b-5077-49b4-d7dd-38fba34c8ab0"
      },
      "execution_count": null,
      "outputs": [
        {
          "output_type": "stream",
          "name": "stdout",
          "text": [
            "Epoch 1/50\n",
            "55/55 [==============================] - 16s 120ms/step - loss: 2.1024 - accuracy: 0.2215 - val_loss: 1.6960 - val_accuracy: 0.3975\n",
            "Epoch 2/50\n",
            "55/55 [==============================] - 5s 89ms/step - loss: 1.7464 - accuracy: 0.3658 - val_loss: 1.2963 - val_accuracy: 0.5590\n",
            "Epoch 3/50\n",
            "55/55 [==============================] - 5s 89ms/step - loss: 1.4436 - accuracy: 0.4918 - val_loss: 0.9229 - val_accuracy: 0.7400\n",
            "Epoch 4/50\n",
            "55/55 [==============================] - 5s 89ms/step - loss: 1.2162 - accuracy: 0.5847 - val_loss: 0.7619 - val_accuracy: 0.7858\n",
            "Epoch 5/50\n",
            "55/55 [==============================] - 5s 92ms/step - loss: 1.0477 - accuracy: 0.6394 - val_loss: 0.6712 - val_accuracy: 0.8121\n",
            "Epoch 6/50\n",
            "55/55 [==============================] - 5s 90ms/step - loss: 0.9114 - accuracy: 0.6898 - val_loss: 0.6088 - val_accuracy: 0.8225\n",
            "Epoch 7/50\n",
            "55/55 [==============================] - 5s 90ms/step - loss: 0.8344 - accuracy: 0.7181 - val_loss: 0.5913 - val_accuracy: 0.8373\n",
            "Epoch 8/50\n",
            "55/55 [==============================] - 5s 90ms/step - loss: 0.7633 - accuracy: 0.7343 - val_loss: 0.5422 - val_accuracy: 0.8465\n",
            "Epoch 9/50\n",
            "55/55 [==============================] - 5s 91ms/step - loss: 0.6939 - accuracy: 0.7639 - val_loss: 0.4975 - val_accuracy: 0.8557\n",
            "Epoch 10/50\n",
            "55/55 [==============================] - 5s 91ms/step - loss: 0.6115 - accuracy: 0.7881 - val_loss: 0.4870 - val_accuracy: 0.8660\n",
            "Epoch 11/50\n",
            "55/55 [==============================] - 5s 91ms/step - loss: 0.5647 - accuracy: 0.8020 - val_loss: 0.4392 - val_accuracy: 0.8774\n",
            "Epoch 12/50\n",
            "55/55 [==============================] - 5s 92ms/step - loss: 0.5129 - accuracy: 0.8208 - val_loss: 0.4530 - val_accuracy: 0.8786\n",
            "Epoch 13/50\n",
            "55/55 [==============================] - 5s 91ms/step - loss: 0.4966 - accuracy: 0.8318 - val_loss: 0.4695 - val_accuracy: 0.8740\n",
            "Epoch 14/50\n",
            "55/55 [==============================] - 5s 92ms/step - loss: 0.4530 - accuracy: 0.8401 - val_loss: 0.4591 - val_accuracy: 0.8545\n",
            "Epoch 15/50\n",
            "55/55 [==============================] - 5s 92ms/step - loss: 0.4515 - accuracy: 0.8392 - val_loss: 0.4308 - val_accuracy: 0.8877\n",
            "Epoch 16/50\n",
            "55/55 [==============================] - 5s 92ms/step - loss: 0.4150 - accuracy: 0.8504 - val_loss: 0.4141 - val_accuracy: 0.8877\n",
            "Epoch 17/50\n",
            "55/55 [==============================] - 5s 92ms/step - loss: 0.3774 - accuracy: 0.8628 - val_loss: 0.4479 - val_accuracy: 0.8877\n",
            "Epoch 18/50\n",
            "55/55 [==============================] - 5s 93ms/step - loss: 0.3861 - accuracy: 0.8664 - val_loss: 0.4643 - val_accuracy: 0.8855\n",
            "Epoch 19/50\n",
            "55/55 [==============================] - 5s 93ms/step - loss: 0.3802 - accuracy: 0.8601 - val_loss: 0.4317 - val_accuracy: 0.8946\n",
            "Epoch 20/50\n",
            "55/55 [==============================] - 5s 93ms/step - loss: 0.3475 - accuracy: 0.8752 - val_loss: 0.4665 - val_accuracy: 0.8751\n",
            "Epoch 21/50\n",
            "55/55 [==============================] - 5s 92ms/step - loss: 0.3393 - accuracy: 0.8807 - val_loss: 0.4365 - val_accuracy: 0.8923\n",
            "Epoch 22/50\n",
            "55/55 [==============================] - 5s 92ms/step - loss: 0.3144 - accuracy: 0.8873 - val_loss: 0.4812 - val_accuracy: 0.8889\n",
            "Epoch 23/50\n",
            "55/55 [==============================] - 5s 92ms/step - loss: 0.3115 - accuracy: 0.8890 - val_loss: 0.4333 - val_accuracy: 0.8969\n",
            "Epoch 24/50\n",
            "55/55 [==============================] - 5s 92ms/step - loss: 0.2984 - accuracy: 0.8956 - val_loss: 0.4684 - val_accuracy: 0.8958\n",
            "Epoch 25/50\n",
            "55/55 [==============================] - 5s 92ms/step - loss: 0.2981 - accuracy: 0.8909 - val_loss: 0.4688 - val_accuracy: 0.8809\n",
            "Epoch 26/50\n",
            "55/55 [==============================] - 5s 92ms/step - loss: 0.2901 - accuracy: 0.8928 - val_loss: 0.4747 - val_accuracy: 0.8981\n",
            "Epoch 27/50\n",
            "55/55 [==============================] - 5s 92ms/step - loss: 0.2703 - accuracy: 0.9031 - val_loss: 0.5173 - val_accuracy: 0.8900\n",
            "Epoch 28/50\n",
            "55/55 [==============================] - 5s 92ms/step - loss: 0.2904 - accuracy: 0.8953 - val_loss: 0.4897 - val_accuracy: 0.8900\n",
            "Epoch 29/50\n",
            "55/55 [==============================] - 5s 92ms/step - loss: 0.2794 - accuracy: 0.8991 - val_loss: 0.5207 - val_accuracy: 0.8969\n",
            "Epoch 30/50\n",
            "55/55 [==============================] - 5s 92ms/step - loss: 0.2614 - accuracy: 0.9061 - val_loss: 0.5022 - val_accuracy: 0.8923\n",
            "Epoch 31/50\n",
            "55/55 [==============================] - 5s 93ms/step - loss: 0.2749 - accuracy: 0.9015 - val_loss: 0.5794 - val_accuracy: 0.8900\n",
            "Epoch 32/50\n",
            "55/55 [==============================] - 5s 93ms/step - loss: 0.2710 - accuracy: 0.8999 - val_loss: 0.6208 - val_accuracy: 0.8877\n",
            "Epoch 33/50\n",
            "55/55 [==============================] - 5s 92ms/step - loss: 0.2526 - accuracy: 0.9081 - val_loss: 0.5200 - val_accuracy: 0.8900\n",
            "Epoch 34/50\n",
            "55/55 [==============================] - 5s 93ms/step - loss: 0.2538 - accuracy: 0.9047 - val_loss: 0.5468 - val_accuracy: 0.8855\n",
            "Epoch 35/50\n",
            "55/55 [==============================] - 5s 92ms/step - loss: 0.2482 - accuracy: 0.9127 - val_loss: 0.5218 - val_accuracy: 0.8912\n",
            "Epoch 36/50\n",
            "55/55 [==============================] - 5s 93ms/step - loss: 0.2446 - accuracy: 0.9095 - val_loss: 0.5385 - val_accuracy: 0.8866\n",
            "Epoch 37/50\n",
            "55/55 [==============================] - 5s 93ms/step - loss: 0.2359 - accuracy: 0.9110 - val_loss: 0.5688 - val_accuracy: 0.8923\n",
            "Epoch 38/50\n",
            "55/55 [==============================] - 5s 92ms/step - loss: 0.2178 - accuracy: 0.9204 - val_loss: 0.5544 - val_accuracy: 0.8981\n",
            "Epoch 39/50\n",
            "55/55 [==============================] - 5s 93ms/step - loss: 0.2294 - accuracy: 0.9132 - val_loss: 0.6760 - val_accuracy: 0.8900\n",
            "Epoch 40/50\n",
            "55/55 [==============================] - 5s 92ms/step - loss: 0.2436 - accuracy: 0.9148 - val_loss: 0.4976 - val_accuracy: 0.8946\n",
            "Epoch 41/50\n",
            "55/55 [==============================] - 5s 92ms/step - loss: 0.2312 - accuracy: 0.9171 - val_loss: 0.6130 - val_accuracy: 0.8843\n",
            "Epoch 42/50\n",
            "55/55 [==============================] - 5s 92ms/step - loss: 0.2098 - accuracy: 0.9254 - val_loss: 0.5725 - val_accuracy: 0.8912\n",
            "Epoch 43/50\n",
            "55/55 [==============================] - 5s 92ms/step - loss: 0.2248 - accuracy: 0.9150 - val_loss: 0.5822 - val_accuracy: 0.8935\n",
            "Epoch 44/50\n",
            "55/55 [==============================] - 5s 92ms/step - loss: 0.2072 - accuracy: 0.9225 - val_loss: 0.5554 - val_accuracy: 0.8889\n",
            "Epoch 45/50\n",
            "55/55 [==============================] - 5s 92ms/step - loss: 0.2031 - accuracy: 0.9220 - val_loss: 0.6486 - val_accuracy: 0.8843\n",
            "Epoch 46/50\n",
            "55/55 [==============================] - 5s 92ms/step - loss: 0.2298 - accuracy: 0.9150 - val_loss: 0.6024 - val_accuracy: 0.8877\n",
            "Epoch 47/50\n",
            "55/55 [==============================] - 5s 92ms/step - loss: 0.2166 - accuracy: 0.9217 - val_loss: 0.5593 - val_accuracy: 0.8958\n",
            "Epoch 48/50\n",
            "55/55 [==============================] - 5s 93ms/step - loss: 0.1916 - accuracy: 0.9311 - val_loss: 0.5902 - val_accuracy: 0.8958\n",
            "Epoch 49/50\n",
            "55/55 [==============================] - 5s 92ms/step - loss: 0.2139 - accuracy: 0.9215 - val_loss: 0.5758 - val_accuracy: 0.8866\n",
            "Epoch 50/50\n",
            "55/55 [==============================] - 5s 92ms/step - loss: 0.2009 - accuracy: 0.9253 - val_loss: 0.6556 - val_accuracy: 0.8866\n"
          ]
        }
      ]
    },
    {
      "cell_type": "code",
      "source": [
        "#Modelin performans metriklerini, loss ve accuracy grafiklerini ekrana yazdırın\n",
        "# Plot the the training loss\n",
        "plt.plot(results.history['loss'], label='loss')\n",
        "\n",
        "# Plot the the validation loss\n",
        "plt.plot(results.history['val_loss'], label='val_loss')\n",
        "\n",
        "# Name the x and y axises\n",
        "plt.xlabel('Epoch')\n",
        "plt.ylabel('Loss')\n",
        "# Put legend table\n",
        "plt.legend()\n",
        "\n",
        "# Show the plot\n",
        "plt.show()"
      ],
      "metadata": {
        "id": "aldspyIDCB_G",
        "colab": {
          "base_uri": "https://localhost:8080/",
          "height": 279
        },
        "outputId": "ca42c966-19c1-4215-fd5c-163d74f793f7"
      },
      "execution_count": null,
      "outputs": [
        {
          "output_type": "display_data",
          "data": {
            "text/plain": [
              "<Figure size 432x288 with 1 Axes>"
            ],
            "image/png": "[encoded data removed]"
          },
          "metadata": {
            "needs_background": "light"
          }
        }
      ]
    },
    {
      "cell_type": "code",
      "source": [
        "# Plot the the training accuracy\n",
        "plt.plot(results.history['accuracy'], label='accuracy')\n",
        "\n",
        "# Plot the the validation accuracy\n",
        "plt.plot(results.history['val_accuracy'], label='val_accuracy')\n",
        "\n",
        "# Name the x and y axises\n",
        "plt.xlabel('Epoch')\n",
        "plt.ylabel('Accuracy')\n",
        "\n",
        "# Put legend table\n",
        "plt.legend()\n",
        "\n",
        "# Show the plot\n",
        "plt.show()"
      ],
      "metadata": {
        "id": "3jJ1_s2VnfII",
        "colab": {
          "base_uri": "https://localhost:8080/",
          "height": 279
        },
        "outputId": "221059e0-ed3f-4eee-88d4-4d9c9886e7c6"
      },
      "execution_count": null,
      "outputs": [
        {
          "output_type": "display_data",
          "data": {
            "text/plain": [
              "<Figure size 432x288 with 1 Axes>"
            ],
            "image/png": "[encoded data removed]"
          },
          "metadata": {
            "needs_background": "light"
          }
        }
      ]
    },
    {
      "cell_type": "code",
      "source": [
        "# Evaluate the performance\n",
        "model.evaluate(X_test, y_test)"
      ],
      "metadata": {
        "id": "zFj4fdVynlP7",
        "colab": {
          "base_uri": "https://localhost:8080/"
        },
        "outputId": "18106dde-90f8-4fd0-9532-2a288d8c4e0d"
      },
      "execution_count": null,
      "outputs": [
        {
          "output_type": "stream",
          "name": "stdout",
          "text": [
            "28/28 [==============================] - 1s 18ms/step - loss: 0.7118 - accuracy: 0.8833\n"
          ]
        },
        {
          "output_type": "execute_result",
          "data": {
            "text/plain": [
              "[0.7117721438407898, 0.8832951784133911]"
            ]
          },
          "metadata": {},
          "execution_count": 8
        }
      ]
    },
    {
      "cell_type": "code",
      "source": [
        "prediction_result = model.predict(X_test[69].reshape(1,128,128,1))"
      ],
      "metadata": {
        "id": "4HcXQl2wq7fb"
      },
      "execution_count": null,
      "outputs": []
    },
    {
      "cell_type": "code",
      "source": [
        "# Find the predicted class\n",
        "predicted_class = prediction_result.argmax()\n",
        "# Find the prediction probability\n",
        "predicted_probability = prediction_result.max()"
      ],
      "metadata": {
        "id": "cz50naxdntpA"
      },
      "execution_count": null,
      "outputs": []
    },
    {
      "cell_type": "code",
      "source": [
        "# Print the results\n",
        "print(f'This image belongs to class {predicted_class} with {predicted_probability} probability % ')\n",
        "print(f'The real class of this image is class {y_test[69]}')"
      ],
      "metadata": {
        "id": "cxZMzMa-nyn8",
        "colab": {
          "base_uri": "https://localhost:8080/"
        },
        "outputId": "b1ac1b55-a316-4b1d-b436-67c5a07b35b0"
      },
      "execution_count": null,
      "outputs": [
        {
          "output_type": "stream",
          "name": "stdout",
          "text": [
            "This image belongs to class 4 with 0.9948891401290894 probability % \n",
            "The real class of this image is class 4\n"
          ]
        }
      ]
    },
    {
      "cell_type": "code",
      "source": [
        "#Aldığınız sonuçlara göre hyperparameter optimization yapın\n",
        "from tensorflow.keras.optimizers import Adam\n",
        "model2 = tf.keras.Sequential()\n",
        "\n",
        "model2.add(tf.keras.layers.Conv2D(64,\n",
        "                                 kernel_size = (3,3),\n",
        "                                 strides = (1,1),\n",
        "                                 padding = 'same',\n",
        "                                 activation = 'relu',\n",
        "                                 input_shape = (128,128,1)))\n",
        "                                  \n",
        "\n",
        "model2.add(tf.keras.layers.MaxPool2D(2,2))\n",
        "\n",
        "model2.add(tf.keras.layers.Conv2D(64,\n",
        "                                 kernel_size = (3,3),\n",
        "                                 strides = (1,1),\n",
        "                                 padding = 'same',\n",
        "                                 activation = 'relu',\n",
        "                                 ))\n",
        "model2.add(tf.keras.layers.MaxPool2D(2,2))\n",
        "model2.add(tf.keras.layers.Conv2D(64,\n",
        "                                 kernel_size = (3,3),\n",
        "                                 strides = (1,1),\n",
        "                                 padding = 'same',\n",
        "                                 activation = 'relu',\n",
        "                                 ))\n",
        "\n",
        "model2.add(tf.keras.layers.Flatten())\n",
        "\n",
        "model2.add(tf.keras.layers.Dense(128, activation= 'relu'))\n",
        "model2.add(tf.keras.layers.Dropout(0.5))\n",
        "model2.add(tf.keras.layers.Dense(64, activation= 'relu'))\n",
        "model2.add(tf.keras.layers.Dropout(0.5))\n",
        "\n",
        "\n",
        "model2.add(tf.keras.layers.Dense(64, activation= 'relu'))\n",
        "model2.add(tf.keras.layers.Dropout(0.5))\n",
        "\n",
        "\n",
        "model2.add(tf.keras.layers.Dense(10,activation='softmax'))\n",
        "\n",
        "\n",
        "new_optimizer = Adam(learning_rate = 0.001)\n",
        "model2.compile(optimizer= new_optimizer,\n",
        "              loss='sparse_categorical_crossentropy',\n",
        "              metrics=['accuracy']\n",
        "              )"
      ],
      "metadata": {
        "id": "9Dyz3u8aCFzC"
      },
      "execution_count": null,
      "outputs": []
    },
    {
      "cell_type": "code",
      "source": [
        "results2= model2.fit(X_train, y_train,\n",
        "                   batch_size=128,\n",
        "                   epochs=50,\n",
        "                   validation_data= (X_val, y_val)\n",
        "                   )"
      ],
      "metadata": {
        "id": "ItPjJk4wx0kz",
        "colab": {
          "base_uri": "https://localhost:8080/"
        },
        "outputId": "68cb1405-f5a6-4624-8916-01c6769ad60d"
      },
      "execution_count": null,
      "outputs": [
        {
          "output_type": "stream",
          "name": "stdout",
          "text": [
            "Epoch 1/50\n",
            "55/55 [==============================] - 6s 97ms/step - loss: 2.2104 - accuracy: 0.1742 - val_loss: 1.9184 - val_accuracy: 0.4227\n",
            "Epoch 2/50\n",
            "55/55 [==============================] - 5s 93ms/step - loss: 1.9146 - accuracy: 0.3011 - val_loss: 1.5200 - val_accuracy: 0.5281\n",
            "Epoch 3/50\n",
            "55/55 [==============================] - 5s 94ms/step - loss: 1.6478 - accuracy: 0.4034 - val_loss: 1.1718 - val_accuracy: 0.5670\n",
            "Epoch 4/50\n",
            "55/55 [==============================] - 5s 94ms/step - loss: 1.4212 - accuracy: 0.4845 - val_loss: 0.9778 - val_accuracy: 0.6621\n",
            "Epoch 5/50\n",
            "55/55 [==============================] - 5s 94ms/step - loss: 1.2427 - accuracy: 0.5632 - val_loss: 0.8205 - val_accuracy: 0.7354\n",
            "Epoch 6/50\n",
            "55/55 [==============================] - 5s 94ms/step - loss: 1.0838 - accuracy: 0.6202 - val_loss: 0.7467 - val_accuracy: 0.7640\n",
            "Epoch 7/50\n",
            "55/55 [==============================] - 5s 94ms/step - loss: 0.9425 - accuracy: 0.6677 - val_loss: 0.6876 - val_accuracy: 0.7995\n",
            "Epoch 8/50\n",
            "55/55 [==============================] - 5s 94ms/step - loss: 0.8339 - accuracy: 0.7117 - val_loss: 0.5980 - val_accuracy: 0.8385\n",
            "Epoch 9/50\n",
            "55/55 [==============================] - 5s 96ms/step - loss: 0.7493 - accuracy: 0.7422 - val_loss: 0.5817 - val_accuracy: 0.8385\n",
            "Epoch 10/50\n",
            "55/55 [==============================] - 5s 93ms/step - loss: 0.6954 - accuracy: 0.7658 - val_loss: 0.5765 - val_accuracy: 0.8259\n",
            "Epoch 11/50\n",
            "55/55 [==============================] - 5s 93ms/step - loss: 0.6233 - accuracy: 0.7941 - val_loss: 0.5363 - val_accuracy: 0.8522\n",
            "Epoch 12/50\n",
            "55/55 [==============================] - 5s 93ms/step - loss: 0.5680 - accuracy: 0.8143 - val_loss: 0.5308 - val_accuracy: 0.8454\n",
            "Epoch 13/50\n",
            "55/55 [==============================] - 5s 92ms/step - loss: 0.5114 - accuracy: 0.8359 - val_loss: 0.4782 - val_accuracy: 0.8683\n",
            "Epoch 14/50\n",
            "55/55 [==============================] - 5s 93ms/step - loss: 0.4723 - accuracy: 0.8527 - val_loss: 0.4726 - val_accuracy: 0.8648\n",
            "Epoch 15/50\n",
            "55/55 [==============================] - 5s 93ms/step - loss: 0.4295 - accuracy: 0.8651 - val_loss: 0.4988 - val_accuracy: 0.8751\n",
            "Epoch 16/50\n",
            "55/55 [==============================] - 5s 93ms/step - loss: 0.3977 - accuracy: 0.8762 - val_loss: 0.5072 - val_accuracy: 0.8740\n",
            "Epoch 17/50\n",
            "55/55 [==============================] - 5s 93ms/step - loss: 0.3655 - accuracy: 0.8855 - val_loss: 0.5115 - val_accuracy: 0.8717\n",
            "Epoch 18/50\n",
            "55/55 [==============================] - 5s 93ms/step - loss: 0.3379 - accuracy: 0.8938 - val_loss: 0.4946 - val_accuracy: 0.8717\n",
            "Epoch 19/50\n",
            "55/55 [==============================] - 5s 94ms/step - loss: 0.3158 - accuracy: 0.9022 - val_loss: 0.4875 - val_accuracy: 0.8900\n",
            "Epoch 20/50\n",
            "55/55 [==============================] - 5s 94ms/step - loss: 0.3305 - accuracy: 0.8998 - val_loss: 0.4898 - val_accuracy: 0.8751\n",
            "Epoch 21/50\n",
            "55/55 [==============================] - 5s 94ms/step - loss: 0.2982 - accuracy: 0.9068 - val_loss: 0.4750 - val_accuracy: 0.8820\n",
            "Epoch 22/50\n",
            "55/55 [==============================] - 5s 93ms/step - loss: 0.2728 - accuracy: 0.9164 - val_loss: 0.5068 - val_accuracy: 0.8855\n",
            "Epoch 23/50\n",
            "55/55 [==============================] - 5s 94ms/step - loss: 0.2377 - accuracy: 0.9256 - val_loss: 0.5337 - val_accuracy: 0.8958\n",
            "Epoch 24/50\n",
            "55/55 [==============================] - 5s 93ms/step - loss: 0.2677 - accuracy: 0.9213 - val_loss: 0.4820 - val_accuracy: 0.8923\n",
            "Epoch 25/50\n",
            "55/55 [==============================] - 5s 93ms/step - loss: 0.2236 - accuracy: 0.9320 - val_loss: 0.5292 - val_accuracy: 0.8912\n",
            "Epoch 26/50\n",
            "55/55 [==============================] - 5s 93ms/step - loss: 0.2207 - accuracy: 0.9326 - val_loss: 0.5594 - val_accuracy: 0.8958\n",
            "Epoch 27/50\n",
            "55/55 [==============================] - 5s 93ms/step - loss: 0.2359 - accuracy: 0.9281 - val_loss: 0.5298 - val_accuracy: 0.8946\n",
            "Epoch 28/50\n",
            "55/55 [==============================] - 5s 93ms/step - loss: 0.2351 - accuracy: 0.9310 - val_loss: 0.5514 - val_accuracy: 0.8877\n",
            "Epoch 29/50\n",
            "55/55 [==============================] - 5s 92ms/step - loss: 0.2056 - accuracy: 0.9359 - val_loss: 0.6634 - val_accuracy: 0.8797\n",
            "Epoch 30/50\n",
            "55/55 [==============================] - 5s 93ms/step - loss: 0.2223 - accuracy: 0.9329 - val_loss: 0.6356 - val_accuracy: 0.8706\n",
            "Epoch 31/50\n",
            "55/55 [==============================] - 5s 93ms/step - loss: 0.2202 - accuracy: 0.9350 - val_loss: 0.4839 - val_accuracy: 0.9038\n",
            "Epoch 32/50\n",
            "55/55 [==============================] - 5s 93ms/step - loss: 0.1865 - accuracy: 0.9435 - val_loss: 0.5532 - val_accuracy: 0.8912\n",
            "Epoch 33/50\n",
            "55/55 [==============================] - 5s 93ms/step - loss: 0.1867 - accuracy: 0.9435 - val_loss: 0.6178 - val_accuracy: 0.8912\n",
            "Epoch 34/50\n",
            "55/55 [==============================] - 5s 93ms/step - loss: 0.2002 - accuracy: 0.9394 - val_loss: 0.6658 - val_accuracy: 0.8855\n",
            "Epoch 35/50\n",
            "55/55 [==============================] - 5s 93ms/step - loss: 0.2023 - accuracy: 0.9406 - val_loss: 0.6060 - val_accuracy: 0.8912\n",
            "Epoch 36/50\n",
            "55/55 [==============================] - 5s 93ms/step - loss: 0.2058 - accuracy: 0.9393 - val_loss: 0.5572 - val_accuracy: 0.8935\n",
            "Epoch 37/50\n",
            "55/55 [==============================] - 5s 93ms/step - loss: 0.1744 - accuracy: 0.9503 - val_loss: 0.5579 - val_accuracy: 0.9026\n",
            "Epoch 38/50\n",
            "55/55 [==============================] - 5s 93ms/step - loss: 0.1665 - accuracy: 0.9473 - val_loss: 0.6385 - val_accuracy: 0.8923\n",
            "Epoch 39/50\n",
            "55/55 [==============================] - 5s 93ms/step - loss: 0.1658 - accuracy: 0.9495 - val_loss: 0.6332 - val_accuracy: 0.8889\n",
            "Epoch 40/50\n",
            "55/55 [==============================] - 5s 93ms/step - loss: 0.1662 - accuracy: 0.9529 - val_loss: 0.5861 - val_accuracy: 0.8981\n",
            "Epoch 41/50\n",
            "55/55 [==============================] - 5s 93ms/step - loss: 0.1692 - accuracy: 0.9493 - val_loss: 0.7119 - val_accuracy: 0.8912\n",
            "Epoch 42/50\n",
            "55/55 [==============================] - 5s 93ms/step - loss: 0.1444 - accuracy: 0.9572 - val_loss: 0.6212 - val_accuracy: 0.8981\n",
            "Epoch 43/50\n",
            "55/55 [==============================] - 5s 93ms/step - loss: 0.1616 - accuracy: 0.9513 - val_loss: 0.5881 - val_accuracy: 0.8946\n",
            "Epoch 44/50\n",
            "55/55 [==============================] - 5s 93ms/step - loss: 0.1511 - accuracy: 0.9532 - val_loss: 0.7555 - val_accuracy: 0.8786\n",
            "Epoch 45/50\n",
            "55/55 [==============================] - 5s 93ms/step - loss: 0.1664 - accuracy: 0.9520 - val_loss: 0.7113 - val_accuracy: 0.8786\n",
            "Epoch 46/50\n",
            "55/55 [==============================] - 5s 93ms/step - loss: 0.1655 - accuracy: 0.9535 - val_loss: 0.5740 - val_accuracy: 0.8900\n",
            "Epoch 47/50\n",
            "55/55 [==============================] - 5s 93ms/step - loss: 0.1551 - accuracy: 0.9543 - val_loss: 0.5999 - val_accuracy: 0.8935\n",
            "Epoch 48/50\n",
            "55/55 [==============================] - 5s 93ms/step - loss: 0.1580 - accuracy: 0.9545 - val_loss: 0.7192 - val_accuracy: 0.8866\n",
            "Epoch 49/50\n",
            "55/55 [==============================] - 5s 93ms/step - loss: 0.1682 - accuracy: 0.9487 - val_loss: 0.7065 - val_accuracy: 0.8820\n",
            "Epoch 50/50\n",
            "55/55 [==============================] - 5s 93ms/step - loss: 0.1428 - accuracy: 0.9578 - val_loss: 0.6718 - val_accuracy: 0.8843\n"
          ]
        }
      ]
    },
    {
      "cell_type": "code",
      "source": [
        "plt.plot(results2.history['loss'], label='loss')\n",
        "\n",
        "# Plot the the validation loss\n",
        "plt.plot(results2.history['val_loss'], label='val_loss')\n",
        "\n",
        "# Name the x and y axises\n",
        "plt.xlabel('Epoch')\n",
        "plt.ylabel('Loss')\n",
        "# Put legend table\n",
        "plt.legend()\n",
        "\n",
        "# Show the plot\n",
        "plt.show()"
      ],
      "metadata": {
        "id": "lIFDRADzyCMM",
        "colab": {
          "base_uri": "https://localhost:8080/",
          "height": 279
        },
        "outputId": "675734a9-f56f-4a5f-8f93-b4b44c815848"
      },
      "execution_count": null,
      "outputs": [
        {
          "output_type": "display_data",
          "data": {
            "text/plain": [
              "<Figure size 432x288 with 1 Axes>"
            ],
            "image/png": "[encoded data removed]"
          },
          "metadata": {
            "needs_background": "light"
          }
        }
      ]
    },
    {
      "cell_type": "code",
      "source": [
        "# Plot the the training accuracy\n",
        "plt.plot(results2.history['accuracy'], label='accuracy')\n",
        "\n",
        "# Plot the the validation accuracy\n",
        "plt.plot(results2.history['val_accuracy'], label='val_accuracy')\n",
        "\n",
        "# Name the x and y axises\n",
        "plt.xlabel('Epoch')\n",
        "plt.ylabel('Accuracy')\n",
        "\n",
        "# Put legend table\n",
        "plt.legend()\n",
        "\n",
        "# Show the plot\n",
        "plt.show()"
      ],
      "metadata": {
        "id": "DC23E1aUyCTA",
        "colab": {
          "base_uri": "https://localhost:8080/",
          "height": 279
        },
        "outputId": "0749d96f-0044-46a2-8525-4e600034914a"
      },
      "execution_count": null,
      "outputs": [
        {
          "output_type": "display_data",
          "data": {
            "text/plain": [
              "<Figure size 432x288 with 1 Axes>"
            ],
            "image/png": "[encoded data removed]"
          },
          "metadata": {
            "needs_background": "light"
          }
        }
      ]
    },
    {
      "cell_type": "code",
      "source": [
        "model2.evaluate(X_test, y_test)"
      ],
      "metadata": {
        "id": "sjHj8_IFzVtk",
        "colab": {
          "base_uri": "https://localhost:8080/"
        },
        "outputId": "84385443-fcf9-4a87-ceed-531e2f1f61a4"
      },
      "execution_count": null,
      "outputs": [
        {
          "output_type": "stream",
          "name": "stdout",
          "text": [
            "28/28 [==============================] - 0s 14ms/step - loss: 1.1065 - accuracy: 0.7311\n"
          ]
        },
        {
          "output_type": "execute_result",
          "data": {
            "text/plain": [
              "[1.10652756690979, 0.731121301651001]"
            ]
          },
          "metadata": {},
          "execution_count": 16
        }
      ]
    },
    {
      "cell_type": "code",
      "source": [
        "prediction_result2 = model2.predict(X_test[69].reshape(1,128,128,1))"
      ],
      "metadata": {
        "id": "BEvcv0OXzVvk"
      },
      "execution_count": null,
      "outputs": []
    },
    {
      "cell_type": "code",
      "source": [
        "predicted_class2 = prediction_result2.argmax()\n",
        "predicted_probability2 = prediction_result2.max()"
      ],
      "metadata": {
        "id": "nlaBw9xozVyC"
      },
      "execution_count": null,
      "outputs": []
    },
    {
      "cell_type": "code",
      "source": [
        "print(f'This image belongs to class {predicted_class2} with {predicted_probability2} probability % ')\n",
        "print(f'The real class of this image is class {y_test[69]}')"
      ],
      "metadata": {
        "id": "Co91LbFIzV4o",
        "colab": {
          "base_uri": "https://localhost:8080/"
        },
        "outputId": "943da4dd-044f-46cd-b7ab-fe1d01fd1dd0"
      },
      "execution_count": null,
      "outputs": [
        {
          "output_type": "stream",
          "name": "stdout",
          "text": [
            "This image belongs to class 4 with 0.7342289090156555 probability % \n",
            "The real class of this image is class 4\n"
          ]
        }
      ]
    }
  ]
}